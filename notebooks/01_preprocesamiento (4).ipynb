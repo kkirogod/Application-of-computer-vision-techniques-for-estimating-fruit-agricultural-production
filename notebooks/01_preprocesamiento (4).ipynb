{
 "cells": [
  {
   "cell_type": "code",
   "execution_count": 1,
   "id": "08839da0-4713-48c3-a0de-fe69357a4a3b",
   "metadata": {},
   "outputs": [
    {
     "name": "stderr",
     "output_type": "stream",
     "text": [
      "/home/quirogaalu/miniconda3/envs/tfg/lib/python3.10/site-packages/albumentations/__init__.py:28: UserWarning: A new version of Albumentations is available: '2.0.8' (you have '2.0.6'). Upgrade using: pip install -U albumentations. To disable automatic update checks, set the environment variable NO_ALBUMENTATIONS_UPDATE to 1.\n",
      "  check_for_updates()\n"
     ]
    }
   ],
   "source": [
    "import os\n",
    "import cv2\n",
    "import albumentations as A\n",
    "import pandas as pd\n",
    "from PIL import Image\n",
    "import numpy as np\n",
    "from tqdm import tqdm"
   ]
  },
  {
   "cell_type": "code",
   "execution_count": 2,
   "id": "051d8e0f-f3ea-47dc-9b4a-4029ceb97a30",
   "metadata": {},
   "outputs": [
    {
     "name": "stdout",
     "output_type": "stream",
     "text": [
      "Total imágenes: 179\n",
      "Train: 108\n",
      "Valid: 35\n",
      "Test: 37\n"
     ]
    }
   ],
   "source": [
    "import os\n",
    "import shutil\n",
    "import random\n",
    "\n",
    "# Ruta base donde están las carpetas train, valid y test\n",
    "base_path = '/home/quirogaalu/TFG/datasets/imagenes_todas_det_1024'\n",
    "\n",
    "train_dir = os.path.join(base_path, 'train')\n",
    "valid_dir = os.path.join(base_path, 'valid')\n",
    "test_dir = os.path.join(base_path, 'test')\n",
    "\n",
    "# Crear carpetas valid y test si no existen\n",
    "os.makedirs(valid_dir, exist_ok=True)\n",
    "os.makedirs(test_dir, exist_ok=True)\n",
    "\n",
    "# Listar imágenes en train\n",
    "all_images = [f for f in os.listdir(train_dir) if os.path.isfile(os.path.join(train_dir, f))]\n",
    "\n",
    "random.seed(33)\n",
    "\n",
    "# Mezclar la lista de imágenes\n",
    "random.shuffle(all_images)\n",
    "\n",
    "# Calcular tamaños de cada partición\n",
    "total = len(all_images)\n",
    "train_count = int(0.6 * total)\n",
    "valid_count = int(0.2 * total)\n",
    "test_count = total - train_count - valid_count  # para asegurar que suma total\n",
    "\n",
    "# Separar las listas según partición\n",
    "train_images = all_images[:train_count]\n",
    "valid_images = all_images[train_count:train_count + valid_count]\n",
    "test_images = all_images[train_count + valid_count:]\n",
    "\n",
    "# Función para mover archivos\n",
    "def move_files(file_list, source_dir, dest_dir):\n",
    "    for filename in file_list:\n",
    "        shutil.move(os.path.join(source_dir, filename), os.path.join(dest_dir, filename))\n",
    "\n",
    "# Mover imágenes de valid y test desde train\n",
    "move_files(valid_images, train_dir, valid_dir)\n",
    "move_files(test_images, train_dir, test_dir)\n",
    "\n",
    "print(f'Total imágenes: {total}')\n",
    "print(f'Train: {len(os.listdir(train_dir))}')\n",
    "print(f'Valid: {len(os.listdir(valid_dir))}')\n",
    "print(f'Test: {len(os.listdir(test_dir))}')\n"
   ]
  },
  {
   "cell_type": "code",
   "execution_count": 3,
   "id": "25dd08f2-1c76-4e76-9de7-a272d3184c7b",
   "metadata": {},
   "outputs": [],
   "source": [
    "# Ruta base del dataset organizado\n",
    "base_dir = '/home/quirogaalu/TFG/datasets/imagenes_todas_5_1024'\n",
    "\n",
    "# Ruta al Excel con conteos reales\n",
    "conteos_path = '/home/quirogaalu/TFG/ESTADILLO_CONTEOS_FRUTA_LA_CALVILLA.xlsx'\n",
    "conteos_df = pd.read_excel(conteos_path)\n",
    "\n",
    "# CSV de salida para regresión\n",
    "csv_path = '/home/quirogaalu/TFG/labels_regresion_5_1024.csv'"
   ]
  },
  {
   "cell_type": "code",
   "execution_count": 4,
   "id": "33be9643-20b2-44e9-9764-2290544d702c",
   "metadata": {},
   "outputs": [],
   "source": [
    "# Definir pipeline de augmentaciones SOLO para train\n",
    "transform_train  = A.Compose([\n",
    "    A.HorizontalFlip(p=0.5),                      # Flip horizontal simula cambio de orientación del árbol\n",
    "    A.RandomBrightnessContrast(                   # Variaciones de luz solar y sombras\n",
    "        brightness_limit=0.2,\n",
    "        contrast_limit=0.2,\n",
    "        p=0.5\n",
    "    ),\n",
    "    A.HueSaturationValue(                         # Variaciones de color por maduración o cámara\n",
    "        hue_shift_limit=0,\n",
    "        sat_shift_limit=10,\n",
    "        val_shift_limit=10,\n",
    "        p=0.3\n",
    "    ),\n",
    "    A.Rotate(limit=10, p=0.4),                    # Rotaciones suaves (no alterar distribución espacial drásticamente)\n",
    "    A.RandomShadow(p=0.2),                        # Sombra de ramas, sol\n",
    "    A.Resize(1024, 1024)                            # Estándar para el modelo\n",
    "])\n",
    "\n",
    "# Para valid/test solo resize\n",
    "transform_valtest = A.Compose([\n",
    "    A.Resize(1024, 1024)\n",
    "])"
   ]
  },
  {
   "cell_type": "code",
   "execution_count": 5,
   "id": "f4f80212-fefa-4bcc-9e0e-ff68d096b644",
   "metadata": {},
   "outputs": [
    {
     "name": "stderr",
     "output_type": "stream",
     "text": [
      "Procesando train: 100%|███████████████████████████████████████████████████████████████| 108/108 [00:19<00:00,  5.44it/s]\n",
      "Procesando valid: 100%|█████████████████████████████████████████████████████████████████| 35/35 [00:06<00:00,  5.48it/s]\n",
      "Procesando test: 100%|██████████████████████████████████████████████████████████████████| 37/37 [00:06<00:00,  5.37it/s]"
     ]
    },
    {
     "name": "stdout",
     "output_type": "stream",
     "text": [
      "\n",
      "✅ CSV guardado en: /home/quirogaalu/TFG/labels_regresion_5_1024.csv\n"
     ]
    },
    {
     "name": "stderr",
     "output_type": "stream",
     "text": [
      "\n"
     ]
    }
   ],
   "source": [
    "regression_data = []\n",
    "\n",
    "def obtener_conteo_real(imagen_nombre):\n",
    "    \"\"\"\n",
    "    Extrae el número de árbol del nombre de imagen y devuelve el conteo real de naranjas\n",
    "    \"\"\"\n",
    "    # Asumimos que el nombre es 'arbolX_imgY.jpg'\n",
    "    arbol_str = imagen_nombre.split('_')[0]  # 'arbolX'\n",
    "    arbol_num = int(arbol_str.replace('arbol', ''))\n",
    "    fila = conteos_df[conteos_df['ARBOL'] == arbol_num]\n",
    "    if not fila.empty:\n",
    "        return int(fila.iloc[0]['NARANJAS CONTADAS'])\n",
    "    else:\n",
    "        return None\n",
    "\n",
    "def procesar_subset(subset_name):\n",
    "    input_folder = os.path.join(base_dir, subset_name)\n",
    "    output_folder = os.path.join(base_dir, f\"{subset_name}_processed\")\n",
    "    os.makedirs(output_folder, exist_ok=True)\n",
    "\n",
    "    for filename in tqdm(os.listdir(input_folder), desc=f'Procesando {subset_name}'):\n",
    "        if not filename.lower().endswith(('.jpg', '.jpeg', '.png')):\n",
    "            continue\n",
    "        \n",
    "        conteo_real = obtener_conteo_real(filename)\n",
    "        if conteo_real is None:\n",
    "            print(f\"⚠️ No se encontró conteo para la imagen {filename}\")\n",
    "            continue\n",
    "\n",
    "        image_path = os.path.join(input_folder, filename)\n",
    "        image = cv2.imread(image_path)\n",
    "        image = cv2.cvtColor(image, cv2.COLOR_BGR2RGB)\n",
    "\n",
    "        # Transformar y guardar imagen procesada\n",
    "        augmented = transform_valtest(image=image)['image']\n",
    "        save_path = os.path.join(output_folder, filename)\n",
    "        cv2.imwrite(save_path, cv2.cvtColor(augmented, cv2.COLOR_RGB2BGR))\n",
    "\n",
    "        regression_data.append({'ruta_imagen': save_path, 'conteo_real': conteo_real})\n",
    "        '''\n",
    "        # Solo para train, crear 3 aumentos extra\n",
    "        if subset_name == 'train':\n",
    "            for i in range(3):\n",
    "                extra_aug = transform_train(image=image)['image']\n",
    "                aug_name = f\"{os.path.splitext(filename)[0]}_aug{i+1}.jpg\"\n",
    "                aug_path = os.path.join(output_folder, aug_name)\n",
    "                cv2.imwrite(aug_path, cv2.cvtColor(extra_aug, cv2.COLOR_RGB2BGR))\n",
    "                regression_data.append({'ruta_imagen': aug_path, 'conteo_real': conteo_real})\n",
    "        '''\n",
    "\n",
    "\n",
    "# Procesar cada subset\n",
    "for subset in ['train', 'valid', 'test']:\n",
    "    procesar_subset(subset)\n",
    "\n",
    "# Guardar CSV con rutas y conteos para regresión\n",
    "df_output = pd.DataFrame(regression_data)\n",
    "df_output.to_csv(csv_path, index=False)\n",
    "print(f'\\n✅ CSV guardado en: {csv_path}')"
   ]
  },
  {
   "cell_type": "code",
   "execution_count": null,
   "id": "e3af4043-ca9a-4daa-b646-c249ac42f33d",
   "metadata": {},
   "outputs": [],
   "source": []
  }
 ],
 "metadata": {
  "kernelspec": {
   "display_name": "Python 3 (ipykernel)",
   "language": "python",
   "name": "python3"
  },
  "language_info": {
   "codemirror_mode": {
    "name": "ipython",
    "version": 3
   },
   "file_extension": ".py",
   "mimetype": "text/x-python",
   "name": "python",
   "nbconvert_exporter": "python",
   "pygments_lexer": "ipython3",
   "version": "3.10.16"
  }
 },
 "nbformat": 4,
 "nbformat_minor": 5
}
