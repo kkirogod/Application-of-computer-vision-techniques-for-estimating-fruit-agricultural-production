{
 "cells": [
  {
   "cell_type": "markdown",
   "metadata": {
    "id": "fKBZVKfGZGXs"
   },
   "source": [
    "# Librerías principales\n"
   ]
  },
  {
   "cell_type": "code",
   "execution_count": 2,
   "metadata": {
    "executionInfo": {
     "elapsed": 8793,
     "status": "ok",
     "timestamp": 1745000784007,
     "user": {
      "displayName": "Miguel Quiroga",
      "userId": "16696869029994426456"
     },
     "user_tz": -120
    },
    "id": "-MFGCY5ndKb5"
   },
   "outputs": [],
   "source": [
    "import albumentations as A\n",
    "import cv2\n",
    "import numpy as np\n",
    "from glob import glob\n",
    "from tqdm import tqdm\n",
    "import os\n",
    "import pandas as pd"
   ]
  },
  {
   "cell_type": "markdown",
   "metadata": {
    "id": "Y0L7r_CKZEWj"
   },
   "source": [
    "# Directorios base\n"
   ]
  },
  {
   "cell_type": "code",
   "execution_count": 1,
   "metadata": {
    "executionInfo": {
     "elapsed": 1450,
     "status": "ok",
     "timestamp": 1745000690054,
     "user": {
      "displayName": "Miguel Quiroga",
      "userId": "16696869029994426456"
     },
     "user_tz": -120
    },
    "id": "OK_waFcpLz7I"
   },
   "outputs": [],
   "source": [
    "input_dir = '/home/quirogaalu/TFG/datasets/original'\n",
    "output_dir = '/home/quirogaalu/TFG/datasets/augmented'\n",
    "csv_path = '/home/quirogaalu/TFG/labels_regresion.csv'\n",
    "\n",
    "conteos_path = '/home/quirogaalu/TFG/ESTADILLO_CONTEOS_FRUTA_LA_CALVILLA.xlsx'\n",
    "conteos_df = pd.read_excel(conteos_path)"
   ]
  },
  {
   "cell_type": "markdown",
   "metadata": {
    "id": "DlQiwhTFZMMc"
   },
   "source": [
    "# Transformaciones Data Augmentation"
   ]
  },
  {
   "cell_type": "code",
   "execution_count": 4,
   "metadata": {
    "executionInfo": {
     "elapsed": 12,
     "status": "ok",
     "timestamp": 1745000787789,
     "user": {
      "displayName": "Miguel Quiroga",
      "userId": "16696869029994426456"
     },
     "user_tz": -120
    },
    "id": "e5z_NJQoSUmj"
   },
   "outputs": [],
   "source": [
    "transform = A.Compose([\n",
    "    A.HorizontalFlip(p=0.5),                      # Flip horizontal simula cambio de orientación del árbol\n",
    "    A.RandomBrightnessContrast(                   # Variaciones de luz solar y sombras\n",
    "        brightness_limit=0.2,\n",
    "        contrast_limit=0.2,\n",
    "        p=0.5\n",
    "    ),\n",
    "    A.HueSaturationValue(                         # Variaciones de color por maduración o cámara\n",
    "        hue_shift_limit=0,\n",
    "        sat_shift_limit=10,\n",
    "        val_shift_limit=10,\n",
    "        p=0.3\n",
    "    ),\n",
    "    A.Rotate(limit=10, p=0.4),                    # Rotaciones suaves (no alterar distribución espacial drásticamente)\n",
    "    A.RandomShadow(p=0.2),                        # Sombra de ramas, sol\n",
    "    A.Resize(640, 640)                            # Estándar para el modelo\n",
    "])"
   ]
  },
  {
   "cell_type": "markdown",
   "metadata": {
    "id": "PtBS28-lZUnc"
   },
   "source": [
    "# DATA AUGMENTATION + CSV"
   ]
  },
  {
   "cell_type": "code",
   "execution_count": 5,
   "metadata": {
    "colab": {
     "base_uri": "https://localhost:8080/"
    },
    "executionInfo": {
     "elapsed": 1058905,
     "status": "ok",
     "timestamp": 1745001897869,
     "user": {
      "displayName": "Miguel Quiroga",
      "userId": "16696869029994426456"
     },
     "user_tz": -120
    },
    "id": "AGuUB7yeUJq7",
    "outputId": "34d62c88-4824-4a83-8008-06751beab409"
   },
   "outputs": [
    {
     "name": "stderr",
     "output_type": "stream",
     "text": [
      "Procesando arbol1: 100%|██████████████████████████████████████████████████████████████████| 4/4 [00:03<00:00,  1.12it/s]\n",
      "Procesando arbol2: 100%|██████████████████████████████████████████████████████████████████| 3/3 [00:02<00:00,  1.40it/s]\n",
      "Procesando arbol3: 100%|██████████████████████████████████████████████████████████████████| 6/6 [00:04<00:00,  1.37it/s]\n",
      "Procesando arbol4: 100%|██████████████████████████████████████████████████████████████████| 6/6 [00:05<00:00,  1.05it/s]\n",
      "Procesando arbol5: 100%|██████████████████████████████████████████████████████████████████| 6/6 [00:05<00:00,  1.05it/s]\n",
      "Procesando arbol6: 100%|██████████████████████████████████████████████████████████████████| 6/6 [00:05<00:00,  1.18it/s]\n",
      "Procesando arbol7: 100%|██████████████████████████████████████████████████████████████████| 5/5 [00:02<00:00,  1.91it/s]\n",
      "Procesando arbol8: 100%|██████████████████████████████████████████████████████████████████| 5/5 [00:03<00:00,  1.46it/s]\n",
      "Procesando arbol9: 100%|██████████████████████████████████████████████████████████████████| 6/6 [00:04<00:00,  1.37it/s]\n",
      "Procesando arbol10: 100%|█████████████████████████████████████████████████████████████████| 6/6 [00:03<00:00,  1.78it/s]\n",
      "Procesando arbol11: 100%|█████████████████████████████████████████████████████████████████| 6/6 [00:03<00:00,  1.69it/s]\n",
      "Procesando arbol12: 100%|█████████████████████████████████████████████████████████████████| 6/6 [00:03<00:00,  1.59it/s]\n",
      "Procesando arbol13: 100%|█████████████████████████████████████████████████████████████████| 6/6 [00:04<00:00,  1.26it/s]\n",
      "Procesando arbol14: 100%|█████████████████████████████████████████████████████████████████| 6/6 [00:06<00:00,  1.05s/it]\n",
      "Procesando arbol15: 100%|█████████████████████████████████████████████████████████████████| 6/6 [00:05<00:00,  1.18it/s]\n",
      "Procesando arbol16: 100%|█████████████████████████████████████████████████████████████████| 6/6 [00:04<00:00,  1.48it/s]\n",
      "Procesando arbol17: 100%|█████████████████████████████████████████████████████████████████| 6/6 [00:04<00:00,  1.23it/s]\n",
      "Procesando arbol18: 100%|█████████████████████████████████████████████████████████████████| 6/6 [00:02<00:00,  2.35it/s]\n",
      "Procesando arbol19: 100%|█████████████████████████████████████████████████████████████████| 6/6 [00:03<00:00,  1.99it/s]\n",
      "Procesando arbol20: 100%|█████████████████████████████████████████████████████████████████| 5/5 [00:03<00:00,  1.46it/s]\n",
      "Procesando arbol21: 100%|█████████████████████████████████████████████████████████████████| 6/6 [00:03<00:00,  1.66it/s]\n",
      "Procesando arbol22: 100%|█████████████████████████████████████████████████████████████████| 6/6 [00:04<00:00,  1.48it/s]\n",
      "Procesando arbol23: 100%|█████████████████████████████████████████████████████████████████| 6/6 [00:03<00:00,  1.99it/s]\n",
      "Procesando arbol24: 100%|█████████████████████████████████████████████████████████████████| 6/6 [00:04<00:00,  1.29it/s]\n",
      "Procesando arbol25: 100%|█████████████████████████████████████████████████████████████████| 6/6 [00:04<00:00,  1.43it/s]\n",
      "Procesando arbol26: 100%|█████████████████████████████████████████████████████████████████| 5/5 [00:04<00:00,  1.21it/s]\n",
      "Procesando arbol27: 100%|█████████████████████████████████████████████████████████████████| 6/6 [00:05<00:00,  1.06it/s]\n",
      "Procesando arbol28: 100%|█████████████████████████████████████████████████████████████████| 6/6 [00:05<00:00,  1.12it/s]\n",
      "Procesando arbol29: 100%|█████████████████████████████████████████████████████████████████| 6/6 [00:03<00:00,  1.59it/s]\n",
      "Procesando arbol30: 100%|█████████████████████████████████████████████████████████████████| 5/5 [00:04<00:00,  1.13it/s]\n",
      "Procesando arbol31: 100%|█████████████████████████████████████████████████████████████████| 4/4 [00:03<00:00,  1.11it/s]\n",
      "Procesando arbol32: 100%|█████████████████████████████████████████████████████████████████| 5/5 [00:04<00:00,  1.12it/s]"
     ]
    },
    {
     "name": "stdout",
     "output_type": "stream",
     "text": [
      "\n",
      "✅ CSV guardado en: /home/quirogaalu/TFG/labels_regresion.csv\n"
     ]
    },
    {
     "name": "stderr",
     "output_type": "stream",
     "text": [
      "\n"
     ]
    }
   ],
   "source": [
    "from PIL import Image\n",
    "import numpy as np\n",
    "\n",
    "regression_data = []\n",
    "\n",
    "for i, row in conteos_df.iterrows():\n",
    "    arbol = row['ARBOL']\n",
    "    conteo = row['NARANJAS CONTADAS']\n",
    "    folder_name = f'arbol{arbol}'\n",
    "    input_folder = os.path.join(input_dir, folder_name)\n",
    "    output_folder = os.path.join(output_dir, folder_name)\n",
    "    os.makedirs(output_folder, exist_ok=True)\n",
    "\n",
    "    if not os.path.exists(input_folder):\n",
    "        print(f'Carpeta no encontrada: {input_folder}')\n",
    "        continue\n",
    "\n",
    "    for filename in tqdm(os.listdir(input_folder), desc=f'Procesando {folder_name}'):\n",
    "        if not filename.lower().endswith(('.jpg', '.jpeg', '.png')):\n",
    "            continue\n",
    "\n",
    "        image_path = os.path.join(input_folder, filename)\n",
    "        image = cv2.imread(image_path)\n",
    "        image = cv2.cvtColor(image, cv2.COLOR_BGR2RGB)\n",
    "\n",
    "        # Imagen original (redimensionada)\n",
    "        image_resized = A.Resize(640, 640)(image=image)['image']\n",
    "        save_path = os.path.join(output_folder, f'{os.path.splitext(filename)[0]}_orig.jpg')\n",
    "        cv2.imwrite(save_path, cv2.cvtColor(image_resized, cv2.COLOR_RGB2BGR))\n",
    "        regression_data.append({'ruta_imagen': save_path, 'conteo_real': conteo})\n",
    "\n",
    "        # Generar 4 aumentaciones por imagen\n",
    "        for aug_num in range(3):\n",
    "            augmented = transform(image=image)['image']\n",
    "            aug_filename = f'{os.path.splitext(filename)[0]}_aug{aug_num+1}.jpg'\n",
    "            aug_save_path = os.path.join(output_folder, aug_filename)\n",
    "            cv2.imwrite(aug_save_path, cv2.cvtColor(augmented, cv2.COLOR_RGB2BGR))\n",
    "            regression_data.append({'ruta_imagen': aug_save_path, 'conteo_real': conteo})\n",
    "\n",
    "# Guardar CSV con etiquetas (para Regresión)\n",
    "df_output = pd.DataFrame(regression_data)\n",
    "df_output.to_csv(csv_path, index=False)\n",
    "print(f'\\n✅ CSV guardado en: {csv_path}')\n"
   ]
  },
  {
   "cell_type": "code",
   "execution_count": null,
   "metadata": {},
   "outputs": [],
   "source": []
  }
 ],
 "metadata": {
  "colab": {
   "authorship_tag": "ABX9TyNRk5271/VcuL3l+k3RNtig",
   "provenance": []
  },
  "kernelspec": {
   "display_name": "Python 3 (ipykernel)",
   "language": "python",
   "name": "python3"
  },
  "language_info": {
   "codemirror_mode": {
    "name": "ipython",
    "version": 3
   },
   "file_extension": ".py",
   "mimetype": "text/x-python",
   "name": "python",
   "nbconvert_exporter": "python",
   "pygments_lexer": "ipython3",
   "version": "3.10.16"
  }
 },
 "nbformat": 4,
 "nbformat_minor": 4
}
